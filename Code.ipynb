{
 "cells": [
  {
   "cell_type": "code",
   "execution_count": 22,
   "metadata": {},
   "outputs": [],
   "source": [
    "import numpy as np \n",
    "import os.path\n",
    "import pandas as pd\n",
    "import matplotlib.pyplot as plt\n",
    "import seaborn as sns\n",
    "import plotly.express as px\n",
    "from pathlib import Path \n",
    "from sklearn.model_selection import train_test_split\n",
    "import tensorflow as tf\n",
    "from sklearn.metrics import confusion_matrix, classification_report"
   ]
  },
  {
   "cell_type": "code",
   "execution_count": 23,
   "metadata": {},
   "outputs": [],
   "source": [
    "pos =Path('E:\\\\Download\\\\Research_&_Projects\\\\archive\\\\test\\\\Positive')\n",
    "neg =Path('E:\\\\Download\\\\Research_&_Projects\\\\archive\\\\test\\\\Negative')"
   ]
  },
  {
   "cell_type": "code",
   "execution_count": 24,
   "metadata": {},
   "outputs": [
    {
     "data": {
      "text/plain": [
       "[WindowsPath('E:/Download/Research_&_Projects/archive/test/Positive/DJI_0677_10_16.jpg'),\n",
       " WindowsPath('E:/Download/Research_&_Projects/archive/test/Positive/DJI_0677_14_17.jpg'),\n",
       " WindowsPath('E:/Download/Research_&_Projects/archive/test/Positive/DJI_0677_5_14.jpg'),\n",
       " WindowsPath('E:/Download/Research_&_Projects/archive/test/Positive/DJI_0678_3_12.jpg'),\n",
       " WindowsPath('E:/Download/Research_&_Projects/archive/test/Positive/DJI_0678_4_13.jpg'),\n",
       " WindowsPath('E:/Download/Research_&_Projects/archive/test/Positive/DJI_0685_4_9.jpg'),\n",
       " WindowsPath('E:/Download/Research_&_Projects/archive/test/Positive/DJI_0687_5_14.jpg'),\n",
       " WindowsPath('E:/Download/Research_&_Projects/archive/test/Positive/DJI_0687_5_15.jpg'),\n",
       " WindowsPath('E:/Download/Research_&_Projects/archive/test/Positive/DJI_0687_5_17.jpg'),\n",
       " WindowsPath('E:/Download/Research_&_Projects/archive/test/Positive/DJI_0687_6_8.jpg'),\n",
       " WindowsPath('E:/Download/Research_&_Projects/archive/test/Positive/DJI_0689_10_20.jpg'),\n",
       " WindowsPath('E:/Download/Research_&_Projects/archive/test/Positive/DJI_0689_10_21.jpg'),\n",
       " WindowsPath('E:/Download/Research_&_Projects/archive/test/Positive/DJI_0689_7_5.jpg'),\n",
       " WindowsPath('E:/Download/Research_&_Projects/archive/test/Positive/DJI_0689_8_4.jpg'),\n",
       " WindowsPath('E:/Download/Research_&_Projects/archive/test/Positive/DJI_0694_3_14.jpg'),\n",
       " WindowsPath('E:/Download/Research_&_Projects/archive/test/Positive/DJI_0694_5_12.jpg'),\n",
       " WindowsPath('E:/Download/Research_&_Projects/archive/test/Positive/DJI_0694_6_2.jpg'),\n",
       " WindowsPath('E:/Download/Research_&_Projects/archive/test/Positive/DJI_0694_7_3.jpg'),\n",
       " WindowsPath('E:/Download/Research_&_Projects/archive/test/Positive/DJI_0700_11_21.jpg'),\n",
       " WindowsPath('E:/Download/Research_&_Projects/archive/test/Positive/DJI_0702_12_17.jpg'),\n",
       " WindowsPath('E:/Download/Research_&_Projects/archive/test/Positive/DJI_0702_13_17.jpg'),\n",
       " WindowsPath('E:/Download/Research_&_Projects/archive/test/Positive/DJI_0702_14_16.jpg'),\n",
       " WindowsPath('E:/Download/Research_&_Projects/archive/test/Positive/DJI_0702_4_18.jpg'),\n",
       " WindowsPath('E:/Download/Research_&_Projects/archive/test/Positive/DJI_0710_11_16.jpg'),\n",
       " WindowsPath('E:/Download/Research_&_Projects/archive/test/Positive/DJI_0710_14_16.jpg'),\n",
       " WindowsPath('E:/Download/Research_&_Projects/archive/test/Positive/DJI_0710_15_16.jpg'),\n",
       " WindowsPath('E:/Download/Research_&_Projects/archive/test/Positive/DJI_0712_7_10.jpg'),\n",
       " WindowsPath('E:/Download/Research_&_Projects/archive/test/Positive/DJI_0712_7_9.jpg'),\n",
       " WindowsPath('E:/Download/Research_&_Projects/archive/test/Positive/DJI_0720_12_13.jpg'),\n",
       " WindowsPath('E:/Download/Research_&_Projects/archive/test/Positive/DJI_0720_9_13.jpg'),\n",
       " WindowsPath('E:/Download/Research_&_Projects/archive/test/Positive/DJI_0721_3_9.jpg'),\n",
       " WindowsPath('E:/Download/Research_&_Projects/archive/test/Positive/DJI_0723_7_4.jpg'),\n",
       " WindowsPath('E:/Download/Research_&_Projects/archive/test/Positive/DJI_0728_12_21.jpg'),\n",
       " WindowsPath('E:/Download/Research_&_Projects/archive/test/Positive/DJI_0728_13_21.jpg'),\n",
       " WindowsPath('E:/Download/Research_&_Projects/archive/test/Positive/DJI_0728_14_22.jpg'),\n",
       " WindowsPath('E:/Download/Research_&_Projects/archive/test/Positive/DJI_0731_2_17.jpg'),\n",
       " WindowsPath('E:/Download/Research_&_Projects/archive/test/Positive/DJI_0732_9_12.jpg'),\n",
       " WindowsPath('E:/Download/Research_&_Projects/archive/test/Positive/DJI_0733_6_21.jpg'),\n",
       " WindowsPath('E:/Download/Research_&_Projects/archive/test/Positive/DJI_0735_1_15.jpg'),\n",
       " WindowsPath('E:/Download/Research_&_Projects/archive/test/Positive/DJI_0736_16_12.jpg'),\n",
       " WindowsPath('E:/Download/Research_&_Projects/archive/test/Positive/DJI_0738_2_10.jpg'),\n",
       " WindowsPath('E:/Download/Research_&_Projects/archive/test/Positive/DJI_0741_14_13.jpg'),\n",
       " WindowsPath('E:/Download/Research_&_Projects/archive/test/Positive/DJI_0742_16_10.jpg'),\n",
       " WindowsPath('E:/Download/Research_&_Projects/archive/test/Positive/DJI_0742_16_9.jpg'),\n",
       " WindowsPath('E:/Download/Research_&_Projects/archive/test/Positive/DJI_0746_10_13.jpg'),\n",
       " WindowsPath('E:/Download/Research_&_Projects/archive/test/Positive/DJI_0746_13_14.jpg'),\n",
       " WindowsPath('E:/Download/Research_&_Projects/archive/test/Positive/DJI_0746_14_14.jpg'),\n",
       " WindowsPath('E:/Download/Research_&_Projects/archive/test/Positive/DJI_0746_5_13.jpg'),\n",
       " WindowsPath('E:/Download/Research_&_Projects/archive/test/Positive/DJI_0746_9_13.jpg'),\n",
       " WindowsPath('E:/Download/Research_&_Projects/archive/test/Positive/DJI_0750_11_10.jpg'),\n",
       " WindowsPath('E:/Download/Research_&_Projects/archive/test/Positive/DJI_0752_10_7.jpg'),\n",
       " WindowsPath('E:/Download/Research_&_Projects/archive/test/Positive/DJI_0752_12_7.jpg'),\n",
       " WindowsPath('E:/Download/Research_&_Projects/archive/test/Positive/DJI_0752_12_8.jpg'),\n",
       " WindowsPath('E:/Download/Research_&_Projects/archive/test/Positive/DJI_0753_5_16.jpg'),\n",
       " WindowsPath('E:/Download/Research_&_Projects/archive/test/Positive/DJI_0762_11_15.jpg'),\n",
       " WindowsPath('E:/Download/Research_&_Projects/archive/test/Positive/DJI_0762_5_14.jpg'),\n",
       " WindowsPath('E:/Download/Research_&_Projects/archive/test/Positive/DJI_0763_16_15.jpg'),\n",
       " WindowsPath('E:/Download/Research_&_Projects/archive/test/Positive/DJI_0765_12_20.jpg'),\n",
       " WindowsPath('E:/Download/Research_&_Projects/archive/test/Positive/DJI_0766_3_10.jpg'),\n",
       " WindowsPath('E:/Download/Research_&_Projects/archive/test/Positive/DJI_0766_4_6.jpg'),\n",
       " WindowsPath('E:/Download/Research_&_Projects/archive/test/Positive/DJI_0766_4_7.jpg'),\n",
       " WindowsPath('E:/Download/Research_&_Projects/archive/test/Positive/DJI_0766_5_7.jpg'),\n",
       " WindowsPath('E:/Download/Research_&_Projects/archive/test/Positive/DJI_0767_8_18.jpg'),\n",
       " WindowsPath('E:/Download/Research_&_Projects/archive/test/Positive/DJI_0767_9_13.jpg'),\n",
       " WindowsPath('E:/Download/Research_&_Projects/archive/test/Positive/DJI_0767_9_15.jpg'),\n",
       " WindowsPath('E:/Download/Research_&_Projects/archive/test/Positive/DJI_0767_9_16.jpg'),\n",
       " WindowsPath('E:/Download/Research_&_Projects/archive/test/Positive/DJI_0767_9_17.jpg'),\n",
       " WindowsPath('E:/Download/Research_&_Projects/archive/test/Positive/DJI_0770_10_8.jpg'),\n",
       " WindowsPath('E:/Download/Research_&_Projects/archive/test/Positive/DJI_0770_3_11.jpg'),\n",
       " WindowsPath('E:/Download/Research_&_Projects/archive/test/Positive/DJI_0770_9_8.jpg'),\n",
       " WindowsPath('E:/Download/Research_&_Projects/archive/test/Positive/DJI_0780_10_22.jpg'),\n",
       " WindowsPath('E:/Download/Research_&_Projects/archive/test/Positive/DJI_0780_9_22.jpg'),\n",
       " WindowsPath('E:/Download/Research_&_Projects/archive/test/Positive/DJI_0781_14_19.jpg'),\n",
       " WindowsPath('E:/Download/Research_&_Projects/archive/test/Positive/DJI_0781_15_19.jpg'),\n",
       " WindowsPath('E:/Download/Research_&_Projects/archive/test/Positive/DJI_0781_16_20.jpg'),\n",
       " WindowsPath('E:/Download/Research_&_Projects/archive/test/Positive/DJI_0785_12_10.jpg'),\n",
       " WindowsPath('E:/Download/Research_&_Projects/archive/test/Positive/DJI_0785_13_10.jpg'),\n",
       " WindowsPath('E:/Download/Research_&_Projects/archive/test/Positive/DJI_0786_4_10.jpg'),\n",
       " WindowsPath('E:/Download/Research_&_Projects/archive/test/Positive/DJI_0786_5_10.jpg'),\n",
       " WindowsPath('E:/Download/Research_&_Projects/archive/test/Positive/DJI_0786_6_10.jpg'),\n",
       " WindowsPath('E:/Download/Research_&_Projects/archive/test/Positive/DJI_0788_8_16.jpg'),\n",
       " WindowsPath('E:/Download/Research_&_Projects/archive/test/Positive/DJI_0788_8_19.jpg'),\n",
       " WindowsPath('E:/Download/Research_&_Projects/archive/test/Positive/DJI_0788_9_8.jpg'),\n",
       " WindowsPath('E:/Download/Research_&_Projects/archive/test/Positive/DJI_0788_9_9.jpg'),\n",
       " WindowsPath('E:/Download/Research_&_Projects/archive/test/Positive/DJI_0791_9_16.jpg'),\n",
       " WindowsPath('E:/Download/Research_&_Projects/archive/test/Positive/DJI_0792_10_2.jpg'),\n",
       " WindowsPath('E:/Download/Research_&_Projects/archive/test/Positive/DJI_0792_14_9.jpg'),\n",
       " WindowsPath('E:/Download/Research_&_Projects/archive/test/Positive/DJI_0792_15_5.jpg'),\n",
       " WindowsPath('E:/Download/Research_&_Projects/archive/test/Positive/DJI_0794_16_8.jpg'),\n",
       " WindowsPath('E:/Download/Research_&_Projects/archive/test/Positive/DJI_0796_5_16.jpg'),\n",
       " WindowsPath('E:/Download/Research_&_Projects/archive/test/Positive/DJI_0796_6_14.jpg'),\n",
       " WindowsPath('E:/Download/Research_&_Projects/archive/test/Positive/DJI_0796_6_15.jpg'),\n",
       " WindowsPath('E:/Download/Research_&_Projects/archive/test/Positive/DJI_0796_7_6.jpg'),\n",
       " WindowsPath('E:/Download/Research_&_Projects/archive/test/Positive/DJI_0798_6_13.jpg'),\n",
       " WindowsPath('E:/Download/Research_&_Projects/archive/test/Positive/DJI_0798_6_8.jpg'),\n",
       " WindowsPath('E:/Download/Research_&_Projects/archive/test/Positive/DJI_0800_4_14.jpg'),\n",
       " WindowsPath('E:/Download/Research_&_Projects/archive/test/Positive/DJI_0800_6_12.jpg'),\n",
       " WindowsPath('E:/Download/Research_&_Projects/archive/test/Positive/DJI_0800_6_16.jpg'),\n",
       " WindowsPath('E:/Download/Research_&_Projects/archive/test/Positive/DJI_0803_12_14.jpg'),\n",
       " WindowsPath('E:/Download/Research_&_Projects/archive/test/Positive/DJI_0803_9_14.jpg')]"
      ]
     },
     "execution_count": 24,
     "metadata": {},
     "output_type": "execute_result"
    }
   ],
   "source": [
    "list(pos.glob(r'*.jpg'))"
   ]
  },
  {
   "cell_type": "code",
   "execution_count": 25,
   "metadata": {},
   "outputs": [],
   "source": [
    "#Creating Dataframe\n",
    "def generate_df(img, label):\n",
    "    filepaths = pd.Series(list(img.glob(r'*.jpg')), name='Filepath').astype(str)\n",
    "    labels = pd.Series(label, name='Label', index=filepaths.index)\n",
    "    df= pd.concat([filepaths,labels], axis = 1)\n",
    "    return df"
   ]
  },
  {
   "cell_type": "code",
   "execution_count": 26,
   "metadata": {},
   "outputs": [],
   "source": [
    "pos_df = generate_df(pos, label=\"POSITIVE\")\n",
    "neg_df = generate_df(neg, label=\"NEGATIVE\")\n",
    "\n",
    "all_df = pd.concat([pos_df,neg_df], axis = 0).sample(frac=1.0, random_state=1).reset_index(drop=True)"
   ]
  },
  {
   "cell_type": "code",
   "execution_count": 27,
   "metadata": {},
   "outputs": [
    {
     "data": {
      "text/html": [
       "<div>\n",
       "<style scoped>\n",
       "    .dataframe tbody tr th:only-of-type {\n",
       "        vertical-align: middle;\n",
       "    }\n",
       "\n",
       "    .dataframe tbody tr th {\n",
       "        vertical-align: top;\n",
       "    }\n",
       "\n",
       "    .dataframe thead th {\n",
       "        text-align: right;\n",
       "    }\n",
       "</style>\n",
       "<table border=\"1\" class=\"dataframe\">\n",
       "  <thead>\n",
       "    <tr style=\"text-align: right;\">\n",
       "      <th></th>\n",
       "      <th>Filepath</th>\n",
       "      <th>Label</th>\n",
       "    </tr>\n",
       "  </thead>\n",
       "  <tbody>\n",
       "    <tr>\n",
       "      <th>0</th>\n",
       "      <td>E:\\Download\\Research_&amp;_Projects\\archive\\test\\P...</td>\n",
       "      <td>POSITIVE</td>\n",
       "    </tr>\n",
       "    <tr>\n",
       "      <th>1</th>\n",
       "      <td>E:\\Download\\Research_&amp;_Projects\\archive\\test\\P...</td>\n",
       "      <td>POSITIVE</td>\n",
       "    </tr>\n",
       "    <tr>\n",
       "      <th>2</th>\n",
       "      <td>E:\\Download\\Research_&amp;_Projects\\archive\\test\\P...</td>\n",
       "      <td>POSITIVE</td>\n",
       "    </tr>\n",
       "    <tr>\n",
       "      <th>3</th>\n",
       "      <td>E:\\Download\\Research_&amp;_Projects\\archive\\test\\N...</td>\n",
       "      <td>NEGATIVE</td>\n",
       "    </tr>\n",
       "    <tr>\n",
       "      <th>4</th>\n",
       "      <td>E:\\Download\\Research_&amp;_Projects\\archive\\test\\N...</td>\n",
       "      <td>NEGATIVE</td>\n",
       "    </tr>\n",
       "    <tr>\n",
       "      <th>...</th>\n",
       "      <td>...</td>\n",
       "      <td>...</td>\n",
       "    </tr>\n",
       "    <tr>\n",
       "      <th>195</th>\n",
       "      <td>E:\\Download\\Research_&amp;_Projects\\archive\\test\\N...</td>\n",
       "      <td>NEGATIVE</td>\n",
       "    </tr>\n",
       "    <tr>\n",
       "      <th>196</th>\n",
       "      <td>E:\\Download\\Research_&amp;_Projects\\archive\\test\\N...</td>\n",
       "      <td>NEGATIVE</td>\n",
       "    </tr>\n",
       "    <tr>\n",
       "      <th>197</th>\n",
       "      <td>E:\\Download\\Research_&amp;_Projects\\archive\\test\\P...</td>\n",
       "      <td>POSITIVE</td>\n",
       "    </tr>\n",
       "    <tr>\n",
       "      <th>198</th>\n",
       "      <td>E:\\Download\\Research_&amp;_Projects\\archive\\test\\N...</td>\n",
       "      <td>NEGATIVE</td>\n",
       "    </tr>\n",
       "    <tr>\n",
       "      <th>199</th>\n",
       "      <td>E:\\Download\\Research_&amp;_Projects\\archive\\test\\P...</td>\n",
       "      <td>POSITIVE</td>\n",
       "    </tr>\n",
       "  </tbody>\n",
       "</table>\n",
       "<p>200 rows × 2 columns</p>\n",
       "</div>"
      ],
      "text/plain": [
       "                                              Filepath     Label\n",
       "0    E:\\Download\\Research_&_Projects\\archive\\test\\P...  POSITIVE\n",
       "1    E:\\Download\\Research_&_Projects\\archive\\test\\P...  POSITIVE\n",
       "2    E:\\Download\\Research_&_Projects\\archive\\test\\P...  POSITIVE\n",
       "3    E:\\Download\\Research_&_Projects\\archive\\test\\N...  NEGATIVE\n",
       "4    E:\\Download\\Research_&_Projects\\archive\\test\\N...  NEGATIVE\n",
       "..                                                 ...       ...\n",
       "195  E:\\Download\\Research_&_Projects\\archive\\test\\N...  NEGATIVE\n",
       "196  E:\\Download\\Research_&_Projects\\archive\\test\\N...  NEGATIVE\n",
       "197  E:\\Download\\Research_&_Projects\\archive\\test\\P...  POSITIVE\n",
       "198  E:\\Download\\Research_&_Projects\\archive\\test\\N...  NEGATIVE\n",
       "199  E:\\Download\\Research_&_Projects\\archive\\test\\P...  POSITIVE\n",
       "\n",
       "[200 rows x 2 columns]"
      ]
     },
     "execution_count": 27,
     "metadata": {},
     "output_type": "execute_result"
    }
   ],
   "source": [
    "all_df"
   ]
  },
  {
   "cell_type": "code",
   "execution_count": 28,
   "metadata": {},
   "outputs": [],
   "source": [
    "train_pos =Path('E:\\\\Download\\\\Research_&_Projects\\\\archive\\\\train\\\\Positive')\n",
    "train_neg =Path('E:\\\\Download\\\\Research_&_Projects\\\\archive\\\\train\\\\Negative')"
   ]
  },
  {
   "cell_type": "code",
   "execution_count": 29,
   "metadata": {},
   "outputs": [
    {
     "data": {
      "text/plain": [
       "[WindowsPath('E:/Download/Research_&_Projects/archive/test/Positive/DJI_0677_10_16.jpg'),\n",
       " WindowsPath('E:/Download/Research_&_Projects/archive/test/Positive/DJI_0677_14_17.jpg'),\n",
       " WindowsPath('E:/Download/Research_&_Projects/archive/test/Positive/DJI_0677_5_14.jpg'),\n",
       " WindowsPath('E:/Download/Research_&_Projects/archive/test/Positive/DJI_0678_3_12.jpg'),\n",
       " WindowsPath('E:/Download/Research_&_Projects/archive/test/Positive/DJI_0678_4_13.jpg'),\n",
       " WindowsPath('E:/Download/Research_&_Projects/archive/test/Positive/DJI_0685_4_9.jpg'),\n",
       " WindowsPath('E:/Download/Research_&_Projects/archive/test/Positive/DJI_0687_5_14.jpg'),\n",
       " WindowsPath('E:/Download/Research_&_Projects/archive/test/Positive/DJI_0687_5_15.jpg'),\n",
       " WindowsPath('E:/Download/Research_&_Projects/archive/test/Positive/DJI_0687_5_17.jpg'),\n",
       " WindowsPath('E:/Download/Research_&_Projects/archive/test/Positive/DJI_0687_6_8.jpg'),\n",
       " WindowsPath('E:/Download/Research_&_Projects/archive/test/Positive/DJI_0689_10_20.jpg'),\n",
       " WindowsPath('E:/Download/Research_&_Projects/archive/test/Positive/DJI_0689_10_21.jpg'),\n",
       " WindowsPath('E:/Download/Research_&_Projects/archive/test/Positive/DJI_0689_7_5.jpg'),\n",
       " WindowsPath('E:/Download/Research_&_Projects/archive/test/Positive/DJI_0689_8_4.jpg'),\n",
       " WindowsPath('E:/Download/Research_&_Projects/archive/test/Positive/DJI_0694_3_14.jpg'),\n",
       " WindowsPath('E:/Download/Research_&_Projects/archive/test/Positive/DJI_0694_5_12.jpg'),\n",
       " WindowsPath('E:/Download/Research_&_Projects/archive/test/Positive/DJI_0694_6_2.jpg'),\n",
       " WindowsPath('E:/Download/Research_&_Projects/archive/test/Positive/DJI_0694_7_3.jpg'),\n",
       " WindowsPath('E:/Download/Research_&_Projects/archive/test/Positive/DJI_0700_11_21.jpg'),\n",
       " WindowsPath('E:/Download/Research_&_Projects/archive/test/Positive/DJI_0702_12_17.jpg'),\n",
       " WindowsPath('E:/Download/Research_&_Projects/archive/test/Positive/DJI_0702_13_17.jpg'),\n",
       " WindowsPath('E:/Download/Research_&_Projects/archive/test/Positive/DJI_0702_14_16.jpg'),\n",
       " WindowsPath('E:/Download/Research_&_Projects/archive/test/Positive/DJI_0702_4_18.jpg'),\n",
       " WindowsPath('E:/Download/Research_&_Projects/archive/test/Positive/DJI_0710_11_16.jpg'),\n",
       " WindowsPath('E:/Download/Research_&_Projects/archive/test/Positive/DJI_0710_14_16.jpg'),\n",
       " WindowsPath('E:/Download/Research_&_Projects/archive/test/Positive/DJI_0710_15_16.jpg'),\n",
       " WindowsPath('E:/Download/Research_&_Projects/archive/test/Positive/DJI_0712_7_10.jpg'),\n",
       " WindowsPath('E:/Download/Research_&_Projects/archive/test/Positive/DJI_0712_7_9.jpg'),\n",
       " WindowsPath('E:/Download/Research_&_Projects/archive/test/Positive/DJI_0720_12_13.jpg'),\n",
       " WindowsPath('E:/Download/Research_&_Projects/archive/test/Positive/DJI_0720_9_13.jpg'),\n",
       " WindowsPath('E:/Download/Research_&_Projects/archive/test/Positive/DJI_0721_3_9.jpg'),\n",
       " WindowsPath('E:/Download/Research_&_Projects/archive/test/Positive/DJI_0723_7_4.jpg'),\n",
       " WindowsPath('E:/Download/Research_&_Projects/archive/test/Positive/DJI_0728_12_21.jpg'),\n",
       " WindowsPath('E:/Download/Research_&_Projects/archive/test/Positive/DJI_0728_13_21.jpg'),\n",
       " WindowsPath('E:/Download/Research_&_Projects/archive/test/Positive/DJI_0728_14_22.jpg'),\n",
       " WindowsPath('E:/Download/Research_&_Projects/archive/test/Positive/DJI_0731_2_17.jpg'),\n",
       " WindowsPath('E:/Download/Research_&_Projects/archive/test/Positive/DJI_0732_9_12.jpg'),\n",
       " WindowsPath('E:/Download/Research_&_Projects/archive/test/Positive/DJI_0733_6_21.jpg'),\n",
       " WindowsPath('E:/Download/Research_&_Projects/archive/test/Positive/DJI_0735_1_15.jpg'),\n",
       " WindowsPath('E:/Download/Research_&_Projects/archive/test/Positive/DJI_0736_16_12.jpg'),\n",
       " WindowsPath('E:/Download/Research_&_Projects/archive/test/Positive/DJI_0738_2_10.jpg'),\n",
       " WindowsPath('E:/Download/Research_&_Projects/archive/test/Positive/DJI_0741_14_13.jpg'),\n",
       " WindowsPath('E:/Download/Research_&_Projects/archive/test/Positive/DJI_0742_16_10.jpg'),\n",
       " WindowsPath('E:/Download/Research_&_Projects/archive/test/Positive/DJI_0742_16_9.jpg'),\n",
       " WindowsPath('E:/Download/Research_&_Projects/archive/test/Positive/DJI_0746_10_13.jpg'),\n",
       " WindowsPath('E:/Download/Research_&_Projects/archive/test/Positive/DJI_0746_13_14.jpg'),\n",
       " WindowsPath('E:/Download/Research_&_Projects/archive/test/Positive/DJI_0746_14_14.jpg'),\n",
       " WindowsPath('E:/Download/Research_&_Projects/archive/test/Positive/DJI_0746_5_13.jpg'),\n",
       " WindowsPath('E:/Download/Research_&_Projects/archive/test/Positive/DJI_0746_9_13.jpg'),\n",
       " WindowsPath('E:/Download/Research_&_Projects/archive/test/Positive/DJI_0750_11_10.jpg'),\n",
       " WindowsPath('E:/Download/Research_&_Projects/archive/test/Positive/DJI_0752_10_7.jpg'),\n",
       " WindowsPath('E:/Download/Research_&_Projects/archive/test/Positive/DJI_0752_12_7.jpg'),\n",
       " WindowsPath('E:/Download/Research_&_Projects/archive/test/Positive/DJI_0752_12_8.jpg'),\n",
       " WindowsPath('E:/Download/Research_&_Projects/archive/test/Positive/DJI_0753_5_16.jpg'),\n",
       " WindowsPath('E:/Download/Research_&_Projects/archive/test/Positive/DJI_0762_11_15.jpg'),\n",
       " WindowsPath('E:/Download/Research_&_Projects/archive/test/Positive/DJI_0762_5_14.jpg'),\n",
       " WindowsPath('E:/Download/Research_&_Projects/archive/test/Positive/DJI_0763_16_15.jpg'),\n",
       " WindowsPath('E:/Download/Research_&_Projects/archive/test/Positive/DJI_0765_12_20.jpg'),\n",
       " WindowsPath('E:/Download/Research_&_Projects/archive/test/Positive/DJI_0766_3_10.jpg'),\n",
       " WindowsPath('E:/Download/Research_&_Projects/archive/test/Positive/DJI_0766_4_6.jpg'),\n",
       " WindowsPath('E:/Download/Research_&_Projects/archive/test/Positive/DJI_0766_4_7.jpg'),\n",
       " WindowsPath('E:/Download/Research_&_Projects/archive/test/Positive/DJI_0766_5_7.jpg'),\n",
       " WindowsPath('E:/Download/Research_&_Projects/archive/test/Positive/DJI_0767_8_18.jpg'),\n",
       " WindowsPath('E:/Download/Research_&_Projects/archive/test/Positive/DJI_0767_9_13.jpg'),\n",
       " WindowsPath('E:/Download/Research_&_Projects/archive/test/Positive/DJI_0767_9_15.jpg'),\n",
       " WindowsPath('E:/Download/Research_&_Projects/archive/test/Positive/DJI_0767_9_16.jpg'),\n",
       " WindowsPath('E:/Download/Research_&_Projects/archive/test/Positive/DJI_0767_9_17.jpg'),\n",
       " WindowsPath('E:/Download/Research_&_Projects/archive/test/Positive/DJI_0770_10_8.jpg'),\n",
       " WindowsPath('E:/Download/Research_&_Projects/archive/test/Positive/DJI_0770_3_11.jpg'),\n",
       " WindowsPath('E:/Download/Research_&_Projects/archive/test/Positive/DJI_0770_9_8.jpg'),\n",
       " WindowsPath('E:/Download/Research_&_Projects/archive/test/Positive/DJI_0780_10_22.jpg'),\n",
       " WindowsPath('E:/Download/Research_&_Projects/archive/test/Positive/DJI_0780_9_22.jpg'),\n",
       " WindowsPath('E:/Download/Research_&_Projects/archive/test/Positive/DJI_0781_14_19.jpg'),\n",
       " WindowsPath('E:/Download/Research_&_Projects/archive/test/Positive/DJI_0781_15_19.jpg'),\n",
       " WindowsPath('E:/Download/Research_&_Projects/archive/test/Positive/DJI_0781_16_20.jpg'),\n",
       " WindowsPath('E:/Download/Research_&_Projects/archive/test/Positive/DJI_0785_12_10.jpg'),\n",
       " WindowsPath('E:/Download/Research_&_Projects/archive/test/Positive/DJI_0785_13_10.jpg'),\n",
       " WindowsPath('E:/Download/Research_&_Projects/archive/test/Positive/DJI_0786_4_10.jpg'),\n",
       " WindowsPath('E:/Download/Research_&_Projects/archive/test/Positive/DJI_0786_5_10.jpg'),\n",
       " WindowsPath('E:/Download/Research_&_Projects/archive/test/Positive/DJI_0786_6_10.jpg'),\n",
       " WindowsPath('E:/Download/Research_&_Projects/archive/test/Positive/DJI_0788_8_16.jpg'),\n",
       " WindowsPath('E:/Download/Research_&_Projects/archive/test/Positive/DJI_0788_8_19.jpg'),\n",
       " WindowsPath('E:/Download/Research_&_Projects/archive/test/Positive/DJI_0788_9_8.jpg'),\n",
       " WindowsPath('E:/Download/Research_&_Projects/archive/test/Positive/DJI_0788_9_9.jpg'),\n",
       " WindowsPath('E:/Download/Research_&_Projects/archive/test/Positive/DJI_0791_9_16.jpg'),\n",
       " WindowsPath('E:/Download/Research_&_Projects/archive/test/Positive/DJI_0792_10_2.jpg'),\n",
       " WindowsPath('E:/Download/Research_&_Projects/archive/test/Positive/DJI_0792_14_9.jpg'),\n",
       " WindowsPath('E:/Download/Research_&_Projects/archive/test/Positive/DJI_0792_15_5.jpg'),\n",
       " WindowsPath('E:/Download/Research_&_Projects/archive/test/Positive/DJI_0794_16_8.jpg'),\n",
       " WindowsPath('E:/Download/Research_&_Projects/archive/test/Positive/DJI_0796_5_16.jpg'),\n",
       " WindowsPath('E:/Download/Research_&_Projects/archive/test/Positive/DJI_0796_6_14.jpg'),\n",
       " WindowsPath('E:/Download/Research_&_Projects/archive/test/Positive/DJI_0796_6_15.jpg'),\n",
       " WindowsPath('E:/Download/Research_&_Projects/archive/test/Positive/DJI_0796_7_6.jpg'),\n",
       " WindowsPath('E:/Download/Research_&_Projects/archive/test/Positive/DJI_0798_6_13.jpg'),\n",
       " WindowsPath('E:/Download/Research_&_Projects/archive/test/Positive/DJI_0798_6_8.jpg'),\n",
       " WindowsPath('E:/Download/Research_&_Projects/archive/test/Positive/DJI_0800_4_14.jpg'),\n",
       " WindowsPath('E:/Download/Research_&_Projects/archive/test/Positive/DJI_0800_6_12.jpg'),\n",
       " WindowsPath('E:/Download/Research_&_Projects/archive/test/Positive/DJI_0800_6_16.jpg'),\n",
       " WindowsPath('E:/Download/Research_&_Projects/archive/test/Positive/DJI_0803_12_14.jpg'),\n",
       " WindowsPath('E:/Download/Research_&_Projects/archive/test/Positive/DJI_0803_9_14.jpg')]"
      ]
     },
     "execution_count": 29,
     "metadata": {},
     "output_type": "execute_result"
    }
   ],
   "source": [
    "list(pos.glob(r'*.jpg'))"
   ]
  },
  {
   "cell_type": "code",
   "execution_count": 9,
   "metadata": {},
   "outputs": [],
   "source": [
    "train_pos_df = generate_df(train_pos, label=\"POSITIVE\")\n",
    "train_neg_df = generate_df(train_neg, label=\"NEGATIVE\")\n",
    "\n",
    "train_all_df = pd.concat([train_pos_df,train_neg_df], axis = 0).sample(frac=1.0, random_state=1).reset_index(drop=True)"
   ]
  },
  {
   "cell_type": "code",
   "execution_count": 10,
   "metadata": {},
   "outputs": [
    {
     "data": {
      "text/html": [
       "<div>\n",
       "<style scoped>\n",
       "    .dataframe tbody tr th:only-of-type {\n",
       "        vertical-align: middle;\n",
       "    }\n",
       "\n",
       "    .dataframe tbody tr th {\n",
       "        vertical-align: top;\n",
       "    }\n",
       "\n",
       "    .dataframe thead th {\n",
       "        text-align: right;\n",
       "    }\n",
       "</style>\n",
       "<table border=\"1\" class=\"dataframe\">\n",
       "  <thead>\n",
       "    <tr style=\"text-align: right;\">\n",
       "      <th></th>\n",
       "      <th>Filepath</th>\n",
       "      <th>Label</th>\n",
       "    </tr>\n",
       "  </thead>\n",
       "  <tbody>\n",
       "    <tr>\n",
       "      <th>0</th>\n",
       "      <td>E:\\Download\\Research_&amp;_Projects\\archive\\train\\...</td>\n",
       "      <td>NEGATIVE</td>\n",
       "    </tr>\n",
       "    <tr>\n",
       "      <th>1</th>\n",
       "      <td>E:\\Download\\Research_&amp;_Projects\\archive\\train\\...</td>\n",
       "      <td>NEGATIVE</td>\n",
       "    </tr>\n",
       "    <tr>\n",
       "      <th>2</th>\n",
       "      <td>E:\\Download\\Research_&amp;_Projects\\archive\\train\\...</td>\n",
       "      <td>NEGATIVE</td>\n",
       "    </tr>\n",
       "    <tr>\n",
       "      <th>3</th>\n",
       "      <td>E:\\Download\\Research_&amp;_Projects\\archive\\train\\...</td>\n",
       "      <td>NEGATIVE</td>\n",
       "    </tr>\n",
       "    <tr>\n",
       "      <th>4</th>\n",
       "      <td>E:\\Download\\Research_&amp;_Projects\\archive\\train\\...</td>\n",
       "      <td>POSITIVE</td>\n",
       "    </tr>\n",
       "    <tr>\n",
       "      <th>...</th>\n",
       "      <td>...</td>\n",
       "      <td>...</td>\n",
       "    </tr>\n",
       "    <tr>\n",
       "      <th>595</th>\n",
       "      <td>E:\\Download\\Research_&amp;_Projects\\archive\\train\\...</td>\n",
       "      <td>POSITIVE</td>\n",
       "    </tr>\n",
       "    <tr>\n",
       "      <th>596</th>\n",
       "      <td>E:\\Download\\Research_&amp;_Projects\\archive\\train\\...</td>\n",
       "      <td>POSITIVE</td>\n",
       "    </tr>\n",
       "    <tr>\n",
       "      <th>597</th>\n",
       "      <td>E:\\Download\\Research_&amp;_Projects\\archive\\train\\...</td>\n",
       "      <td>POSITIVE</td>\n",
       "    </tr>\n",
       "    <tr>\n",
       "      <th>598</th>\n",
       "      <td>E:\\Download\\Research_&amp;_Projects\\archive\\train\\...</td>\n",
       "      <td>POSITIVE</td>\n",
       "    </tr>\n",
       "    <tr>\n",
       "      <th>599</th>\n",
       "      <td>E:\\Download\\Research_&amp;_Projects\\archive\\train\\...</td>\n",
       "      <td>POSITIVE</td>\n",
       "    </tr>\n",
       "  </tbody>\n",
       "</table>\n",
       "<p>600 rows × 2 columns</p>\n",
       "</div>"
      ],
      "text/plain": [
       "                                              Filepath     Label\n",
       "0    E:\\Download\\Research_&_Projects\\archive\\train\\...  NEGATIVE\n",
       "1    E:\\Download\\Research_&_Projects\\archive\\train\\...  NEGATIVE\n",
       "2    E:\\Download\\Research_&_Projects\\archive\\train\\...  NEGATIVE\n",
       "3    E:\\Download\\Research_&_Projects\\archive\\train\\...  NEGATIVE\n",
       "4    E:\\Download\\Research_&_Projects\\archive\\train\\...  POSITIVE\n",
       "..                                                 ...       ...\n",
       "595  E:\\Download\\Research_&_Projects\\archive\\train\\...  POSITIVE\n",
       "596  E:\\Download\\Research_&_Projects\\archive\\train\\...  POSITIVE\n",
       "597  E:\\Download\\Research_&_Projects\\archive\\train\\...  POSITIVE\n",
       "598  E:\\Download\\Research_&_Projects\\archive\\train\\...  POSITIVE\n",
       "599  E:\\Download\\Research_&_Projects\\archive\\train\\...  POSITIVE\n",
       "\n",
       "[600 rows x 2 columns]"
      ]
     },
     "execution_count": 10,
     "metadata": {},
     "output_type": "execute_result"
    }
   ],
   "source": [
    "train_all_df"
   ]
  },
  {
   "cell_type": "code",
   "execution_count": 30,
   "metadata": {},
   "outputs": [],
   "source": [
    "val_pos =Path('E:\\\\Download\\\\Research_&_Projects\\\\archive\\\\valid\\\\Positive')\n",
    "val_neg =Path('E:\\\\Download\\\\Research_&_Projects\\\\archive\\\\valid\\\\Negative')"
   ]
  },
  {
   "cell_type": "code",
   "execution_count": 31,
   "metadata": {},
   "outputs": [
    {
     "data": {
      "text/plain": [
       "[WindowsPath('E:/Download/Research_&_Projects/archive/test/Positive/DJI_0677_10_16.jpg'),\n",
       " WindowsPath('E:/Download/Research_&_Projects/archive/test/Positive/DJI_0677_14_17.jpg'),\n",
       " WindowsPath('E:/Download/Research_&_Projects/archive/test/Positive/DJI_0677_5_14.jpg'),\n",
       " WindowsPath('E:/Download/Research_&_Projects/archive/test/Positive/DJI_0678_3_12.jpg'),\n",
       " WindowsPath('E:/Download/Research_&_Projects/archive/test/Positive/DJI_0678_4_13.jpg'),\n",
       " WindowsPath('E:/Download/Research_&_Projects/archive/test/Positive/DJI_0685_4_9.jpg'),\n",
       " WindowsPath('E:/Download/Research_&_Projects/archive/test/Positive/DJI_0687_5_14.jpg'),\n",
       " WindowsPath('E:/Download/Research_&_Projects/archive/test/Positive/DJI_0687_5_15.jpg'),\n",
       " WindowsPath('E:/Download/Research_&_Projects/archive/test/Positive/DJI_0687_5_17.jpg'),\n",
       " WindowsPath('E:/Download/Research_&_Projects/archive/test/Positive/DJI_0687_6_8.jpg'),\n",
       " WindowsPath('E:/Download/Research_&_Projects/archive/test/Positive/DJI_0689_10_20.jpg'),\n",
       " WindowsPath('E:/Download/Research_&_Projects/archive/test/Positive/DJI_0689_10_21.jpg'),\n",
       " WindowsPath('E:/Download/Research_&_Projects/archive/test/Positive/DJI_0689_7_5.jpg'),\n",
       " WindowsPath('E:/Download/Research_&_Projects/archive/test/Positive/DJI_0689_8_4.jpg'),\n",
       " WindowsPath('E:/Download/Research_&_Projects/archive/test/Positive/DJI_0694_3_14.jpg'),\n",
       " WindowsPath('E:/Download/Research_&_Projects/archive/test/Positive/DJI_0694_5_12.jpg'),\n",
       " WindowsPath('E:/Download/Research_&_Projects/archive/test/Positive/DJI_0694_6_2.jpg'),\n",
       " WindowsPath('E:/Download/Research_&_Projects/archive/test/Positive/DJI_0694_7_3.jpg'),\n",
       " WindowsPath('E:/Download/Research_&_Projects/archive/test/Positive/DJI_0700_11_21.jpg'),\n",
       " WindowsPath('E:/Download/Research_&_Projects/archive/test/Positive/DJI_0702_12_17.jpg'),\n",
       " WindowsPath('E:/Download/Research_&_Projects/archive/test/Positive/DJI_0702_13_17.jpg'),\n",
       " WindowsPath('E:/Download/Research_&_Projects/archive/test/Positive/DJI_0702_14_16.jpg'),\n",
       " WindowsPath('E:/Download/Research_&_Projects/archive/test/Positive/DJI_0702_4_18.jpg'),\n",
       " WindowsPath('E:/Download/Research_&_Projects/archive/test/Positive/DJI_0710_11_16.jpg'),\n",
       " WindowsPath('E:/Download/Research_&_Projects/archive/test/Positive/DJI_0710_14_16.jpg'),\n",
       " WindowsPath('E:/Download/Research_&_Projects/archive/test/Positive/DJI_0710_15_16.jpg'),\n",
       " WindowsPath('E:/Download/Research_&_Projects/archive/test/Positive/DJI_0712_7_10.jpg'),\n",
       " WindowsPath('E:/Download/Research_&_Projects/archive/test/Positive/DJI_0712_7_9.jpg'),\n",
       " WindowsPath('E:/Download/Research_&_Projects/archive/test/Positive/DJI_0720_12_13.jpg'),\n",
       " WindowsPath('E:/Download/Research_&_Projects/archive/test/Positive/DJI_0720_9_13.jpg'),\n",
       " WindowsPath('E:/Download/Research_&_Projects/archive/test/Positive/DJI_0721_3_9.jpg'),\n",
       " WindowsPath('E:/Download/Research_&_Projects/archive/test/Positive/DJI_0723_7_4.jpg'),\n",
       " WindowsPath('E:/Download/Research_&_Projects/archive/test/Positive/DJI_0728_12_21.jpg'),\n",
       " WindowsPath('E:/Download/Research_&_Projects/archive/test/Positive/DJI_0728_13_21.jpg'),\n",
       " WindowsPath('E:/Download/Research_&_Projects/archive/test/Positive/DJI_0728_14_22.jpg'),\n",
       " WindowsPath('E:/Download/Research_&_Projects/archive/test/Positive/DJI_0731_2_17.jpg'),\n",
       " WindowsPath('E:/Download/Research_&_Projects/archive/test/Positive/DJI_0732_9_12.jpg'),\n",
       " WindowsPath('E:/Download/Research_&_Projects/archive/test/Positive/DJI_0733_6_21.jpg'),\n",
       " WindowsPath('E:/Download/Research_&_Projects/archive/test/Positive/DJI_0735_1_15.jpg'),\n",
       " WindowsPath('E:/Download/Research_&_Projects/archive/test/Positive/DJI_0736_16_12.jpg'),\n",
       " WindowsPath('E:/Download/Research_&_Projects/archive/test/Positive/DJI_0738_2_10.jpg'),\n",
       " WindowsPath('E:/Download/Research_&_Projects/archive/test/Positive/DJI_0741_14_13.jpg'),\n",
       " WindowsPath('E:/Download/Research_&_Projects/archive/test/Positive/DJI_0742_16_10.jpg'),\n",
       " WindowsPath('E:/Download/Research_&_Projects/archive/test/Positive/DJI_0742_16_9.jpg'),\n",
       " WindowsPath('E:/Download/Research_&_Projects/archive/test/Positive/DJI_0746_10_13.jpg'),\n",
       " WindowsPath('E:/Download/Research_&_Projects/archive/test/Positive/DJI_0746_13_14.jpg'),\n",
       " WindowsPath('E:/Download/Research_&_Projects/archive/test/Positive/DJI_0746_14_14.jpg'),\n",
       " WindowsPath('E:/Download/Research_&_Projects/archive/test/Positive/DJI_0746_5_13.jpg'),\n",
       " WindowsPath('E:/Download/Research_&_Projects/archive/test/Positive/DJI_0746_9_13.jpg'),\n",
       " WindowsPath('E:/Download/Research_&_Projects/archive/test/Positive/DJI_0750_11_10.jpg'),\n",
       " WindowsPath('E:/Download/Research_&_Projects/archive/test/Positive/DJI_0752_10_7.jpg'),\n",
       " WindowsPath('E:/Download/Research_&_Projects/archive/test/Positive/DJI_0752_12_7.jpg'),\n",
       " WindowsPath('E:/Download/Research_&_Projects/archive/test/Positive/DJI_0752_12_8.jpg'),\n",
       " WindowsPath('E:/Download/Research_&_Projects/archive/test/Positive/DJI_0753_5_16.jpg'),\n",
       " WindowsPath('E:/Download/Research_&_Projects/archive/test/Positive/DJI_0762_11_15.jpg'),\n",
       " WindowsPath('E:/Download/Research_&_Projects/archive/test/Positive/DJI_0762_5_14.jpg'),\n",
       " WindowsPath('E:/Download/Research_&_Projects/archive/test/Positive/DJI_0763_16_15.jpg'),\n",
       " WindowsPath('E:/Download/Research_&_Projects/archive/test/Positive/DJI_0765_12_20.jpg'),\n",
       " WindowsPath('E:/Download/Research_&_Projects/archive/test/Positive/DJI_0766_3_10.jpg'),\n",
       " WindowsPath('E:/Download/Research_&_Projects/archive/test/Positive/DJI_0766_4_6.jpg'),\n",
       " WindowsPath('E:/Download/Research_&_Projects/archive/test/Positive/DJI_0766_4_7.jpg'),\n",
       " WindowsPath('E:/Download/Research_&_Projects/archive/test/Positive/DJI_0766_5_7.jpg'),\n",
       " WindowsPath('E:/Download/Research_&_Projects/archive/test/Positive/DJI_0767_8_18.jpg'),\n",
       " WindowsPath('E:/Download/Research_&_Projects/archive/test/Positive/DJI_0767_9_13.jpg'),\n",
       " WindowsPath('E:/Download/Research_&_Projects/archive/test/Positive/DJI_0767_9_15.jpg'),\n",
       " WindowsPath('E:/Download/Research_&_Projects/archive/test/Positive/DJI_0767_9_16.jpg'),\n",
       " WindowsPath('E:/Download/Research_&_Projects/archive/test/Positive/DJI_0767_9_17.jpg'),\n",
       " WindowsPath('E:/Download/Research_&_Projects/archive/test/Positive/DJI_0770_10_8.jpg'),\n",
       " WindowsPath('E:/Download/Research_&_Projects/archive/test/Positive/DJI_0770_3_11.jpg'),\n",
       " WindowsPath('E:/Download/Research_&_Projects/archive/test/Positive/DJI_0770_9_8.jpg'),\n",
       " WindowsPath('E:/Download/Research_&_Projects/archive/test/Positive/DJI_0780_10_22.jpg'),\n",
       " WindowsPath('E:/Download/Research_&_Projects/archive/test/Positive/DJI_0780_9_22.jpg'),\n",
       " WindowsPath('E:/Download/Research_&_Projects/archive/test/Positive/DJI_0781_14_19.jpg'),\n",
       " WindowsPath('E:/Download/Research_&_Projects/archive/test/Positive/DJI_0781_15_19.jpg'),\n",
       " WindowsPath('E:/Download/Research_&_Projects/archive/test/Positive/DJI_0781_16_20.jpg'),\n",
       " WindowsPath('E:/Download/Research_&_Projects/archive/test/Positive/DJI_0785_12_10.jpg'),\n",
       " WindowsPath('E:/Download/Research_&_Projects/archive/test/Positive/DJI_0785_13_10.jpg'),\n",
       " WindowsPath('E:/Download/Research_&_Projects/archive/test/Positive/DJI_0786_4_10.jpg'),\n",
       " WindowsPath('E:/Download/Research_&_Projects/archive/test/Positive/DJI_0786_5_10.jpg'),\n",
       " WindowsPath('E:/Download/Research_&_Projects/archive/test/Positive/DJI_0786_6_10.jpg'),\n",
       " WindowsPath('E:/Download/Research_&_Projects/archive/test/Positive/DJI_0788_8_16.jpg'),\n",
       " WindowsPath('E:/Download/Research_&_Projects/archive/test/Positive/DJI_0788_8_19.jpg'),\n",
       " WindowsPath('E:/Download/Research_&_Projects/archive/test/Positive/DJI_0788_9_8.jpg'),\n",
       " WindowsPath('E:/Download/Research_&_Projects/archive/test/Positive/DJI_0788_9_9.jpg'),\n",
       " WindowsPath('E:/Download/Research_&_Projects/archive/test/Positive/DJI_0791_9_16.jpg'),\n",
       " WindowsPath('E:/Download/Research_&_Projects/archive/test/Positive/DJI_0792_10_2.jpg'),\n",
       " WindowsPath('E:/Download/Research_&_Projects/archive/test/Positive/DJI_0792_14_9.jpg'),\n",
       " WindowsPath('E:/Download/Research_&_Projects/archive/test/Positive/DJI_0792_15_5.jpg'),\n",
       " WindowsPath('E:/Download/Research_&_Projects/archive/test/Positive/DJI_0794_16_8.jpg'),\n",
       " WindowsPath('E:/Download/Research_&_Projects/archive/test/Positive/DJI_0796_5_16.jpg'),\n",
       " WindowsPath('E:/Download/Research_&_Projects/archive/test/Positive/DJI_0796_6_14.jpg'),\n",
       " WindowsPath('E:/Download/Research_&_Projects/archive/test/Positive/DJI_0796_6_15.jpg'),\n",
       " WindowsPath('E:/Download/Research_&_Projects/archive/test/Positive/DJI_0796_7_6.jpg'),\n",
       " WindowsPath('E:/Download/Research_&_Projects/archive/test/Positive/DJI_0798_6_13.jpg'),\n",
       " WindowsPath('E:/Download/Research_&_Projects/archive/test/Positive/DJI_0798_6_8.jpg'),\n",
       " WindowsPath('E:/Download/Research_&_Projects/archive/test/Positive/DJI_0800_4_14.jpg'),\n",
       " WindowsPath('E:/Download/Research_&_Projects/archive/test/Positive/DJI_0800_6_12.jpg'),\n",
       " WindowsPath('E:/Download/Research_&_Projects/archive/test/Positive/DJI_0800_6_16.jpg'),\n",
       " WindowsPath('E:/Download/Research_&_Projects/archive/test/Positive/DJI_0803_12_14.jpg'),\n",
       " WindowsPath('E:/Download/Research_&_Projects/archive/test/Positive/DJI_0803_9_14.jpg')]"
      ]
     },
     "execution_count": 31,
     "metadata": {},
     "output_type": "execute_result"
    }
   ],
   "source": [
    "list(pos.glob(r'*.jpg'))"
   ]
  },
  {
   "cell_type": "code",
   "execution_count": 32,
   "metadata": {},
   "outputs": [],
   "source": [
    "val_pos_df = generate_df(val_pos, label=\"POSITIVE\")\n",
    "val_neg_df = generate_df(val_neg, label=\"NEGATIVE\")\n",
    "\n",
    "val_all_df = pd.concat([val_pos_df,val_neg_df], axis = 0).sample(frac=1.0, random_state=1).reset_index(drop=True)"
   ]
  },
  {
   "cell_type": "code",
   "execution_count": 33,
   "metadata": {},
   "outputs": [
    {
     "data": {
      "text/html": [
       "<div>\n",
       "<style scoped>\n",
       "    .dataframe tbody tr th:only-of-type {\n",
       "        vertical-align: middle;\n",
       "    }\n",
       "\n",
       "    .dataframe tbody tr th {\n",
       "        vertical-align: top;\n",
       "    }\n",
       "\n",
       "    .dataframe thead th {\n",
       "        text-align: right;\n",
       "    }\n",
       "</style>\n",
       "<table border=\"1\" class=\"dataframe\">\n",
       "  <thead>\n",
       "    <tr style=\"text-align: right;\">\n",
       "      <th></th>\n",
       "      <th>Filepath</th>\n",
       "      <th>Label</th>\n",
       "    </tr>\n",
       "  </thead>\n",
       "  <tbody>\n",
       "    <tr>\n",
       "      <th>0</th>\n",
       "      <td>E:\\Download\\Research_&amp;_Projects\\archive\\valid\\...</td>\n",
       "      <td>POSITIVE</td>\n",
       "    </tr>\n",
       "    <tr>\n",
       "      <th>1</th>\n",
       "      <td>E:\\Download\\Research_&amp;_Projects\\archive\\valid\\...</td>\n",
       "      <td>POSITIVE</td>\n",
       "    </tr>\n",
       "    <tr>\n",
       "      <th>2</th>\n",
       "      <td>E:\\Download\\Research_&amp;_Projects\\archive\\valid\\...</td>\n",
       "      <td>POSITIVE</td>\n",
       "    </tr>\n",
       "    <tr>\n",
       "      <th>3</th>\n",
       "      <td>E:\\Download\\Research_&amp;_Projects\\archive\\valid\\...</td>\n",
       "      <td>NEGATIVE</td>\n",
       "    </tr>\n",
       "    <tr>\n",
       "      <th>4</th>\n",
       "      <td>E:\\Download\\Research_&amp;_Projects\\archive\\valid\\...</td>\n",
       "      <td>NEGATIVE</td>\n",
       "    </tr>\n",
       "    <tr>\n",
       "      <th>...</th>\n",
       "      <td>...</td>\n",
       "      <td>...</td>\n",
       "    </tr>\n",
       "    <tr>\n",
       "      <th>195</th>\n",
       "      <td>E:\\Download\\Research_&amp;_Projects\\archive\\valid\\...</td>\n",
       "      <td>NEGATIVE</td>\n",
       "    </tr>\n",
       "    <tr>\n",
       "      <th>196</th>\n",
       "      <td>E:\\Download\\Research_&amp;_Projects\\archive\\valid\\...</td>\n",
       "      <td>NEGATIVE</td>\n",
       "    </tr>\n",
       "    <tr>\n",
       "      <th>197</th>\n",
       "      <td>E:\\Download\\Research_&amp;_Projects\\archive\\valid\\...</td>\n",
       "      <td>POSITIVE</td>\n",
       "    </tr>\n",
       "    <tr>\n",
       "      <th>198</th>\n",
       "      <td>E:\\Download\\Research_&amp;_Projects\\archive\\valid\\...</td>\n",
       "      <td>NEGATIVE</td>\n",
       "    </tr>\n",
       "    <tr>\n",
       "      <th>199</th>\n",
       "      <td>E:\\Download\\Research_&amp;_Projects\\archive\\valid\\...</td>\n",
       "      <td>POSITIVE</td>\n",
       "    </tr>\n",
       "  </tbody>\n",
       "</table>\n",
       "<p>200 rows × 2 columns</p>\n",
       "</div>"
      ],
      "text/plain": [
       "                                              Filepath     Label\n",
       "0    E:\\Download\\Research_&_Projects\\archive\\valid\\...  POSITIVE\n",
       "1    E:\\Download\\Research_&_Projects\\archive\\valid\\...  POSITIVE\n",
       "2    E:\\Download\\Research_&_Projects\\archive\\valid\\...  POSITIVE\n",
       "3    E:\\Download\\Research_&_Projects\\archive\\valid\\...  NEGATIVE\n",
       "4    E:\\Download\\Research_&_Projects\\archive\\valid\\...  NEGATIVE\n",
       "..                                                 ...       ...\n",
       "195  E:\\Download\\Research_&_Projects\\archive\\valid\\...  NEGATIVE\n",
       "196  E:\\Download\\Research_&_Projects\\archive\\valid\\...  NEGATIVE\n",
       "197  E:\\Download\\Research_&_Projects\\archive\\valid\\...  POSITIVE\n",
       "198  E:\\Download\\Research_&_Projects\\archive\\valid\\...  NEGATIVE\n",
       "199  E:\\Download\\Research_&_Projects\\archive\\valid\\...  POSITIVE\n",
       "\n",
       "[200 rows x 2 columns]"
      ]
     },
     "execution_count": 33,
     "metadata": {},
     "output_type": "execute_result"
    }
   ],
   "source": [
    "val_all_df"
   ]
  },
  {
   "cell_type": "code",
   "execution_count": 34,
   "metadata": {},
   "outputs": [],
   "source": [
    "train_gen = tf.keras.preprocessing.image.ImageDataGenerator(\n",
    "    rescale=1./255,\n",
    ")\n",
    "\n",
    "test_gen =  tf.keras.preprocessing.image.ImageDataGenerator(\n",
    "    rescale=1./255\n",
    ")\n",
    "\n",
    "valid_gen = tf.keras.preprocessing.image.ImageDataGenerator(\n",
    "    rescale=1./255\n",
    ")"
   ]
  },
  {
   "cell_type": "code",
   "execution_count": 37,
   "metadata": {},
   "outputs": [
    {
     "name": "stdout",
     "output_type": "stream",
     "text": [
      "Found 600 validated image filenames belonging to 2 classes.\n"
     ]
    }
   ],
   "source": [
    "train_data = train_gen.flow_from_dataframe(\n",
    "    train_all_df,\n",
    "    x_col='Filepath',\n",
    "    y_col ='Label',\n",
    "    target_size=(120, 120),\n",
    "    color_mode='rgb',\n",
    "    class_mode='binary',\n",
    "    batch_size=32,\n",
    "    shuffle=True,\n",
    "    seed=42\n",
    ")"
   ]
  },
  {
   "cell_type": "code",
   "execution_count": 38,
   "metadata": {},
   "outputs": [
    {
     "name": "stdout",
     "output_type": "stream",
     "text": [
      "Found 200 validated image filenames belonging to 2 classes.\n"
     ]
    }
   ],
   "source": [
    "val_data = train_gen.flow_from_dataframe(\n",
    "    val_all_df,\n",
    "    x_col='Filepath',\n",
    "    y_col='Label',\n",
    "    target_size=(120, 120),\n",
    "    color_mode='rgb',\n",
    "    class_mode='binary',\n",
    "    batch_size=32,\n",
    "    shuffle=True,\n",
    "    seed=42\n",
    ")"
   ]
  },
  {
   "cell_type": "code",
   "execution_count": 39,
   "metadata": {},
   "outputs": [
    {
     "name": "stdout",
     "output_type": "stream",
     "text": [
      "Found 200 validated image filenames belonging to 2 classes.\n"
     ]
    }
   ],
   "source": [
    "test_data = train_gen.flow_from_dataframe(\n",
    "    all_df,\n",
    "    x_col='Filepath',\n",
    "    y_col='Label',\n",
    "    target_size=(120, 120),\n",
    "    color_mode='rgb',\n",
    "    class_mode='binary',\n",
    "    batch_size=32,\n",
    "    shuffle=False,\n",
    "    seed=42\n",
    ")"
   ]
  },
  {
   "cell_type": "code",
   "execution_count": 41,
   "metadata": {},
   "outputs": [
    {
     "name": "stdout",
     "output_type": "stream",
     "text": [
      "Model: \"model_2\"\n",
      "_________________________________________________________________\n",
      " Layer (type)                Output Shape              Param #   \n",
      "=================================================================\n",
      " input_3 (InputLayer)        [(None, 120, 120, 3)]     0         \n",
      "                                                                 \n",
      " conv2d_4 (Conv2D)           (None, 118, 118, 16)      448       \n",
      "                                                                 \n",
      " max_pooling2d_4 (MaxPooling  (None, 59, 59, 16)       0         \n",
      " 2D)                                                             \n",
      "                                                                 \n",
      " conv2d_5 (Conv2D)           (None, 57, 57, 32)        4640      \n",
      "                                                                 \n",
      " max_pooling2d_5 (MaxPooling  (None, 28, 28, 32)       0         \n",
      " 2D)                                                             \n",
      "                                                                 \n",
      " global_average_pooling2d_2   (None, 32)               0         \n",
      " (GlobalAveragePooling2D)                                        \n",
      "                                                                 \n",
      " dense_2 (Dense)             (None, 1)                 33        \n",
      "                                                                 \n",
      "=================================================================\n",
      "Total params: 5,121\n",
      "Trainable params: 5,121\n",
      "Non-trainable params: 0\n",
      "_________________________________________________________________\n",
      "None\n"
     ]
    }
   ],
   "source": [
    "inputs = tf.keras.Input(shape=(120, 120, 3))\n",
    "x = tf.keras.layers.Conv2D(filters=16, kernel_size=(3, 3), activation='relu')(inputs)\n",
    "x = tf.keras.layers.MaxPool2D(pool_size=(2, 2))(x)\n",
    "x = tf.keras.layers.Conv2D(filters=32, kernel_size=(3, 3), activation='relu')(x)\n",
    "x = tf.keras.layers.MaxPool2D(pool_size=(2, 2))(x)\n",
    "x = tf.keras.layers.GlobalAveragePooling2D()(x)\n",
    "outputs = tf.keras.layers.Dense(1, activation='sigmoid')(x)\n",
    "\n",
    "model = tf.keras.Model(inputs=inputs, outputs=outputs)\n",
    "\n",
    "model.compile(\n",
    "    optimizer='adam',\n",
    "    loss='binary_crossentropy',\n",
    "    metrics=['accuracy']\n",
    ")\n",
    "\n",
    "print(model.summary())"
   ]
  },
  {
   "cell_type": "code",
   "execution_count": 42,
   "metadata": {},
   "outputs": [
    {
     "name": "stdout",
     "output_type": "stream",
     "text": [
      "Epoch 1/100\n",
      "19/19 [==============================] - 5s 201ms/step - loss: 0.6957 - accuracy: 0.4900 - val_loss: 0.6922 - val_accuracy: 0.5200\n",
      "Epoch 2/100\n",
      "19/19 [==============================] - 3s 131ms/step - loss: 0.6889 - accuracy: 0.5333 - val_loss: 0.6838 - val_accuracy: 0.5000\n",
      "Epoch 3/100\n",
      "19/19 [==============================] - 3s 131ms/step - loss: 0.6817 - accuracy: 0.5400 - val_loss: 0.6801 - val_accuracy: 0.6700\n",
      "Epoch 4/100\n",
      "19/19 [==============================] - 2s 121ms/step - loss: 0.6779 - accuracy: 0.5983 - val_loss: 0.6702 - val_accuracy: 0.7450\n",
      "Epoch 5/100\n",
      "19/19 [==============================] - 2s 121ms/step - loss: 0.6664 - accuracy: 0.6050 - val_loss: 0.6742 - val_accuracy: 0.5000\n",
      "Epoch 6/100\n",
      "19/19 [==============================] - 2s 121ms/step - loss: 0.6579 - accuracy: 0.6350 - val_loss: 0.6453 - val_accuracy: 0.6200\n",
      "Epoch 7/100\n",
      "19/19 [==============================] - 2s 122ms/step - loss: 0.6503 - accuracy: 0.6267 - val_loss: 0.6298 - val_accuracy: 0.8300\n",
      "Epoch 8/100\n",
      "19/19 [==============================] - 2s 122ms/step - loss: 0.6309 - accuracy: 0.6950 - val_loss: 0.6056 - val_accuracy: 0.7300\n",
      "Epoch 9/100\n",
      "19/19 [==============================] - 2s 124ms/step - loss: 0.6133 - accuracy: 0.7050 - val_loss: 0.6104 - val_accuracy: 0.6050\n",
      "Epoch 10/100\n",
      "19/19 [==============================] - 2s 121ms/step - loss: 0.6056 - accuracy: 0.6933 - val_loss: 0.5708 - val_accuracy: 0.8000\n",
      "Epoch 11/100\n",
      "19/19 [==============================] - 2s 121ms/step - loss: 0.5830 - accuracy: 0.7333 - val_loss: 0.5467 - val_accuracy: 0.7900\n",
      "Epoch 12/100\n",
      "19/19 [==============================] - 2s 125ms/step - loss: 0.5741 - accuracy: 0.7267 - val_loss: 0.5439 - val_accuracy: 0.7400\n",
      "Epoch 13/100\n",
      "19/19 [==============================] - 3s 138ms/step - loss: 0.5531 - accuracy: 0.7517 - val_loss: 0.5052 - val_accuracy: 0.8800\n",
      "Epoch 14/100\n",
      "19/19 [==============================] - 3s 136ms/step - loss: 0.5331 - accuracy: 0.7850 - val_loss: 0.4812 - val_accuracy: 0.8950\n",
      "Epoch 15/100\n",
      "19/19 [==============================] - 3s 135ms/step - loss: 0.5320 - accuracy: 0.7567 - val_loss: 0.4658 - val_accuracy: 0.8850\n",
      "Epoch 16/100\n",
      "19/19 [==============================] - 2s 132ms/step - loss: 0.5114 - accuracy: 0.7900 - val_loss: 0.4511 - val_accuracy: 0.9050\n",
      "Epoch 17/100\n",
      "19/19 [==============================] - 3s 132ms/step - loss: 0.5021 - accuracy: 0.7933 - val_loss: 0.4326 - val_accuracy: 0.9050\n",
      "Epoch 18/100\n",
      "19/19 [==============================] - 2s 129ms/step - loss: 0.4895 - accuracy: 0.8150 - val_loss: 0.4399 - val_accuracy: 0.8650\n",
      "Epoch 19/100\n",
      "19/19 [==============================] - 2s 130ms/step - loss: 0.4885 - accuracy: 0.8117 - val_loss: 0.4310 - val_accuracy: 0.8850\n",
      "Epoch 20/100\n",
      "19/19 [==============================] - 3s 131ms/step - loss: 0.4764 - accuracy: 0.8183 - val_loss: 0.4056 - val_accuracy: 0.9100\n",
      "Epoch 21/100\n",
      "19/19 [==============================] - 2s 130ms/step - loss: 0.4772 - accuracy: 0.8100 - val_loss: 0.4112 - val_accuracy: 0.9250\n",
      "Epoch 22/100\n",
      "19/19 [==============================] - 2s 130ms/step - loss: 0.4618 - accuracy: 0.8267 - val_loss: 0.3819 - val_accuracy: 0.9050\n",
      "Epoch 23/100\n",
      "19/19 [==============================] - 3s 136ms/step - loss: 0.4600 - accuracy: 0.8133 - val_loss: 0.3775 - val_accuracy: 0.8600\n",
      "Epoch 24/100\n",
      "19/19 [==============================] - 3s 132ms/step - loss: 0.4663 - accuracy: 0.8183 - val_loss: 0.3777 - val_accuracy: 0.9100\n",
      "Epoch 25/100\n",
      "19/19 [==============================] - 2s 126ms/step - loss: 0.4483 - accuracy: 0.8050 - val_loss: 0.3650 - val_accuracy: 0.9150\n",
      "Epoch 26/100\n",
      "19/19 [==============================] - 2s 130ms/step - loss: 0.4407 - accuracy: 0.8233 - val_loss: 0.3843 - val_accuracy: 0.9350\n",
      "Epoch 27/100\n",
      "19/19 [==============================] - 3s 133ms/step - loss: 0.4417 - accuracy: 0.8467 - val_loss: 0.3495 - val_accuracy: 0.8950\n",
      "Epoch 28/100\n",
      "19/19 [==============================] - 3s 140ms/step - loss: 0.4455 - accuracy: 0.8483 - val_loss: 0.3446 - val_accuracy: 0.8850\n",
      "Epoch 29/100\n",
      "19/19 [==============================] - 3s 136ms/step - loss: 0.4471 - accuracy: 0.8300 - val_loss: 0.3516 - val_accuracy: 0.9300\n",
      "Epoch 30/100\n",
      "19/19 [==============================] - 3s 133ms/step - loss: 0.4269 - accuracy: 0.8350 - val_loss: 0.3460 - val_accuracy: 0.9450\n",
      "Epoch 31/100\n",
      "19/19 [==============================] - 2s 130ms/step - loss: 0.4211 - accuracy: 0.8267 - val_loss: 0.3345 - val_accuracy: 0.9450\n",
      "Epoch 32/100\n",
      "19/19 [==============================] - 3s 134ms/step - loss: 0.4279 - accuracy: 0.8350 - val_loss: 0.3259 - val_accuracy: 0.9250\n",
      "Epoch 33/100\n",
      "19/19 [==============================] - 3s 137ms/step - loss: 0.4126 - accuracy: 0.8450 - val_loss: 0.3203 - val_accuracy: 0.9300\n",
      "Epoch 34/100\n",
      "19/19 [==============================] - 3s 134ms/step - loss: 0.4098 - accuracy: 0.8500 - val_loss: 0.3250 - val_accuracy: 0.9450\n",
      "Epoch 35/100\n",
      "19/19 [==============================] - 3s 133ms/step - loss: 0.4092 - accuracy: 0.8467 - val_loss: 0.3276 - val_accuracy: 0.9550\n",
      "Epoch 36/100\n",
      "19/19 [==============================] - 3s 143ms/step - loss: 0.4037 - accuracy: 0.8517 - val_loss: 0.3033 - val_accuracy: 0.9150\n",
      "Epoch 37/100\n",
      "19/19 [==============================] - 3s 132ms/step - loss: 0.4054 - accuracy: 0.8567 - val_loss: 0.3119 - val_accuracy: 0.9400\n",
      "Epoch 38/100\n",
      "19/19 [==============================] - 3s 136ms/step - loss: 0.4054 - accuracy: 0.8450 - val_loss: 0.3198 - val_accuracy: 0.9550\n",
      "Epoch 39/100\n",
      "19/19 [==============================] - 3s 134ms/step - loss: 0.3974 - accuracy: 0.8617 - val_loss: 0.2966 - val_accuracy: 0.9150\n",
      "Epoch 40/100\n",
      "19/19 [==============================] - 3s 130ms/step - loss: 0.3989 - accuracy: 0.8433 - val_loss: 0.3179 - val_accuracy: 0.9550\n",
      "Epoch 41/100\n",
      "19/19 [==============================] - 2s 129ms/step - loss: 0.4017 - accuracy: 0.8583 - val_loss: 0.3107 - val_accuracy: 0.9400\n",
      "Epoch 42/100\n",
      "19/19 [==============================] - 3s 131ms/step - loss: 0.3954 - accuracy: 0.8533 - val_loss: 0.3139 - val_accuracy: 0.9550\n"
     ]
    }
   ],
   "source": [
    "history = model.fit(\n",
    "    train_data,\n",
    "    validation_data=val_data,\n",
    "    epochs=100,\n",
    "    callbacks=[\n",
    "        tf.keras.callbacks.EarlyStopping(\n",
    "            monitor='val_loss',\n",
    "            patience=3,\n",
    "            restore_best_weights=True\n",
    "        )\n",
    "    ]\n",
    ")"
   ]
  },
  {
   "cell_type": "code",
   "execution_count": 43,
   "metadata": {},
   "outputs": [
    {
     "data": {
      "application/vnd.plotly.v1+json": {
       "config": {
        "plotlyServerURL": "https://plot.ly"
       },
       "data": [
        {
         "hovertemplate": "variable=loss<br>Epoch=%{x}<br>Loss=%{y}<extra></extra>",
         "legendgroup": "loss",
         "line": {
          "color": "#636efa",
          "dash": "solid"
         },
         "marker": {
          "symbol": "circle"
         },
         "mode": "lines",
         "name": "loss",
         "orientation": "v",
         "showlegend": true,
         "type": "scatter",
         "x": [
          0,
          1,
          2,
          3,
          4,
          5,
          6,
          7,
          8,
          9,
          10,
          11,
          12,
          13,
          14,
          15,
          16,
          17,
          18,
          19,
          20,
          21,
          22,
          23,
          24,
          25,
          26,
          27,
          28,
          29,
          30,
          31,
          32,
          33,
          34,
          35,
          36,
          37,
          38,
          39,
          40,
          41
         ],
         "xaxis": "x",
         "y": [
          0.6957125067710876,
          0.6888542771339417,
          0.6817174553871155,
          0.6778781414031982,
          0.6663728356361389,
          0.6579415798187256,
          0.6502942442893982,
          0.6308698654174805,
          0.6132791042327881,
          0.6055784821510315,
          0.5829595923423767,
          0.5740580558776855,
          0.5530750155448914,
          0.5330855846405029,
          0.5320464968681335,
          0.5114201903343201,
          0.5021056532859802,
          0.4894546568393707,
          0.4884822964668274,
          0.4764351546764374,
          0.477226197719574,
          0.46177423000335693,
          0.46004775166511536,
          0.46626368165016174,
          0.44831085205078125,
          0.4407340884208679,
          0.44166505336761475,
          0.4454788267612457,
          0.44708576798439026,
          0.4269067347049713,
          0.4210636019706726,
          0.4279426038265228,
          0.4126409888267517,
          0.4097725749015808,
          0.4092499315738678,
          0.4037148952484131,
          0.4054323136806488,
          0.4053545892238617,
          0.3973720669746399,
          0.39887747168540955,
          0.40170469880104065,
          0.39536386728286743
         ],
         "yaxis": "y"
        },
        {
         "hovertemplate": "variable=val_loss<br>Epoch=%{x}<br>Loss=%{y}<extra></extra>",
         "legendgroup": "val_loss",
         "line": {
          "color": "#EF553B",
          "dash": "solid"
         },
         "marker": {
          "symbol": "circle"
         },
         "mode": "lines",
         "name": "val_loss",
         "orientation": "v",
         "showlegend": true,
         "type": "scatter",
         "x": [
          0,
          1,
          2,
          3,
          4,
          5,
          6,
          7,
          8,
          9,
          10,
          11,
          12,
          13,
          14,
          15,
          16,
          17,
          18,
          19,
          20,
          21,
          22,
          23,
          24,
          25,
          26,
          27,
          28,
          29,
          30,
          31,
          32,
          33,
          34,
          35,
          36,
          37,
          38,
          39,
          40,
          41
         ],
         "xaxis": "x",
         "y": [
          0.6922360062599182,
          0.6838166117668152,
          0.6800665259361267,
          0.6702425479888916,
          0.6741710901260376,
          0.6453302502632141,
          0.6298418641090393,
          0.6055789589881897,
          0.6103691458702087,
          0.5708456635475159,
          0.5466572046279907,
          0.5439263582229614,
          0.5052008628845215,
          0.48123031854629517,
          0.4658106863498688,
          0.451090931892395,
          0.43256673216819763,
          0.4398811459541321,
          0.43098124861717224,
          0.4056309163570404,
          0.41124671697616577,
          0.38189396262168884,
          0.37749046087265015,
          0.3777250647544861,
          0.3649587631225586,
          0.3842933773994446,
          0.3495090901851654,
          0.34463101625442505,
          0.3515593409538269,
          0.34599268436431885,
          0.3345016837120056,
          0.3258896768093109,
          0.3203357458114624,
          0.3250006437301636,
          0.32763221859931946,
          0.3033335208892822,
          0.31190717220306396,
          0.31979599595069885,
          0.2965930998325348,
          0.3178855776786804,
          0.31074953079223633,
          0.31388723850250244
         ],
         "yaxis": "y"
        }
       ],
       "layout": {
        "legend": {
         "title": {
          "text": "variable"
         },
         "tracegroupgap": 0
        },
        "template": {
         "data": {
          "bar": [
           {
            "error_x": {
             "color": "#2a3f5f"
            },
            "error_y": {
             "color": "#2a3f5f"
            },
            "marker": {
             "line": {
              "color": "#E5ECF6",
              "width": 0.5
             },
             "pattern": {
              "fillmode": "overlay",
              "size": 10,
              "solidity": 0.2
             }
            },
            "type": "bar"
           }
          ],
          "barpolar": [
           {
            "marker": {
             "line": {
              "color": "#E5ECF6",
              "width": 0.5
             },
             "pattern": {
              "fillmode": "overlay",
              "size": 10,
              "solidity": 0.2
             }
            },
            "type": "barpolar"
           }
          ],
          "carpet": [
           {
            "aaxis": {
             "endlinecolor": "#2a3f5f",
             "gridcolor": "white",
             "linecolor": "white",
             "minorgridcolor": "white",
             "startlinecolor": "#2a3f5f"
            },
            "baxis": {
             "endlinecolor": "#2a3f5f",
             "gridcolor": "white",
             "linecolor": "white",
             "minorgridcolor": "white",
             "startlinecolor": "#2a3f5f"
            },
            "type": "carpet"
           }
          ],
          "choropleth": [
           {
            "colorbar": {
             "outlinewidth": 0,
             "ticks": ""
            },
            "type": "choropleth"
           }
          ],
          "contour": [
           {
            "colorbar": {
             "outlinewidth": 0,
             "ticks": ""
            },
            "colorscale": [
             [
              0,
              "#0d0887"
             ],
             [
              0.1111111111111111,
              "#46039f"
             ],
             [
              0.2222222222222222,
              "#7201a8"
             ],
             [
              0.3333333333333333,
              "#9c179e"
             ],
             [
              0.4444444444444444,
              "#bd3786"
             ],
             [
              0.5555555555555556,
              "#d8576b"
             ],
             [
              0.6666666666666666,
              "#ed7953"
             ],
             [
              0.7777777777777778,
              "#fb9f3a"
             ],
             [
              0.8888888888888888,
              "#fdca26"
             ],
             [
              1,
              "#f0f921"
             ]
            ],
            "type": "contour"
           }
          ],
          "contourcarpet": [
           {
            "colorbar": {
             "outlinewidth": 0,
             "ticks": ""
            },
            "type": "contourcarpet"
           }
          ],
          "heatmap": [
           {
            "colorbar": {
             "outlinewidth": 0,
             "ticks": ""
            },
            "colorscale": [
             [
              0,
              "#0d0887"
             ],
             [
              0.1111111111111111,
              "#46039f"
             ],
             [
              0.2222222222222222,
              "#7201a8"
             ],
             [
              0.3333333333333333,
              "#9c179e"
             ],
             [
              0.4444444444444444,
              "#bd3786"
             ],
             [
              0.5555555555555556,
              "#d8576b"
             ],
             [
              0.6666666666666666,
              "#ed7953"
             ],
             [
              0.7777777777777778,
              "#fb9f3a"
             ],
             [
              0.8888888888888888,
              "#fdca26"
             ],
             [
              1,
              "#f0f921"
             ]
            ],
            "type": "heatmap"
           }
          ],
          "heatmapgl": [
           {
            "colorbar": {
             "outlinewidth": 0,
             "ticks": ""
            },
            "colorscale": [
             [
              0,
              "#0d0887"
             ],
             [
              0.1111111111111111,
              "#46039f"
             ],
             [
              0.2222222222222222,
              "#7201a8"
             ],
             [
              0.3333333333333333,
              "#9c179e"
             ],
             [
              0.4444444444444444,
              "#bd3786"
             ],
             [
              0.5555555555555556,
              "#d8576b"
             ],
             [
              0.6666666666666666,
              "#ed7953"
             ],
             [
              0.7777777777777778,
              "#fb9f3a"
             ],
             [
              0.8888888888888888,
              "#fdca26"
             ],
             [
              1,
              "#f0f921"
             ]
            ],
            "type": "heatmapgl"
           }
          ],
          "histogram": [
           {
            "marker": {
             "pattern": {
              "fillmode": "overlay",
              "size": 10,
              "solidity": 0.2
             }
            },
            "type": "histogram"
           }
          ],
          "histogram2d": [
           {
            "colorbar": {
             "outlinewidth": 0,
             "ticks": ""
            },
            "colorscale": [
             [
              0,
              "#0d0887"
             ],
             [
              0.1111111111111111,
              "#46039f"
             ],
             [
              0.2222222222222222,
              "#7201a8"
             ],
             [
              0.3333333333333333,
              "#9c179e"
             ],
             [
              0.4444444444444444,
              "#bd3786"
             ],
             [
              0.5555555555555556,
              "#d8576b"
             ],
             [
              0.6666666666666666,
              "#ed7953"
             ],
             [
              0.7777777777777778,
              "#fb9f3a"
             ],
             [
              0.8888888888888888,
              "#fdca26"
             ],
             [
              1,
              "#f0f921"
             ]
            ],
            "type": "histogram2d"
           }
          ],
          "histogram2dcontour": [
           {
            "colorbar": {
             "outlinewidth": 0,
             "ticks": ""
            },
            "colorscale": [
             [
              0,
              "#0d0887"
             ],
             [
              0.1111111111111111,
              "#46039f"
             ],
             [
              0.2222222222222222,
              "#7201a8"
             ],
             [
              0.3333333333333333,
              "#9c179e"
             ],
             [
              0.4444444444444444,
              "#bd3786"
             ],
             [
              0.5555555555555556,
              "#d8576b"
             ],
             [
              0.6666666666666666,
              "#ed7953"
             ],
             [
              0.7777777777777778,
              "#fb9f3a"
             ],
             [
              0.8888888888888888,
              "#fdca26"
             ],
             [
              1,
              "#f0f921"
             ]
            ],
            "type": "histogram2dcontour"
           }
          ],
          "mesh3d": [
           {
            "colorbar": {
             "outlinewidth": 0,
             "ticks": ""
            },
            "type": "mesh3d"
           }
          ],
          "parcoords": [
           {
            "line": {
             "colorbar": {
              "outlinewidth": 0,
              "ticks": ""
             }
            },
            "type": "parcoords"
           }
          ],
          "pie": [
           {
            "automargin": true,
            "type": "pie"
           }
          ],
          "scatter": [
           {
            "fillpattern": {
             "fillmode": "overlay",
             "size": 10,
             "solidity": 0.2
            },
            "type": "scatter"
           }
          ],
          "scatter3d": [
           {
            "line": {
             "colorbar": {
              "outlinewidth": 0,
              "ticks": ""
             }
            },
            "marker": {
             "colorbar": {
              "outlinewidth": 0,
              "ticks": ""
             }
            },
            "type": "scatter3d"
           }
          ],
          "scattercarpet": [
           {
            "marker": {
             "colorbar": {
              "outlinewidth": 0,
              "ticks": ""
             }
            },
            "type": "scattercarpet"
           }
          ],
          "scattergeo": [
           {
            "marker": {
             "colorbar": {
              "outlinewidth": 0,
              "ticks": ""
             }
            },
            "type": "scattergeo"
           }
          ],
          "scattergl": [
           {
            "marker": {
             "colorbar": {
              "outlinewidth": 0,
              "ticks": ""
             }
            },
            "type": "scattergl"
           }
          ],
          "scattermapbox": [
           {
            "marker": {
             "colorbar": {
              "outlinewidth": 0,
              "ticks": ""
             }
            },
            "type": "scattermapbox"
           }
          ],
          "scatterpolar": [
           {
            "marker": {
             "colorbar": {
              "outlinewidth": 0,
              "ticks": ""
             }
            },
            "type": "scatterpolar"
           }
          ],
          "scatterpolargl": [
           {
            "marker": {
             "colorbar": {
              "outlinewidth": 0,
              "ticks": ""
             }
            },
            "type": "scatterpolargl"
           }
          ],
          "scatterternary": [
           {
            "marker": {
             "colorbar": {
              "outlinewidth": 0,
              "ticks": ""
             }
            },
            "type": "scatterternary"
           }
          ],
          "surface": [
           {
            "colorbar": {
             "outlinewidth": 0,
             "ticks": ""
            },
            "colorscale": [
             [
              0,
              "#0d0887"
             ],
             [
              0.1111111111111111,
              "#46039f"
             ],
             [
              0.2222222222222222,
              "#7201a8"
             ],
             [
              0.3333333333333333,
              "#9c179e"
             ],
             [
              0.4444444444444444,
              "#bd3786"
             ],
             [
              0.5555555555555556,
              "#d8576b"
             ],
             [
              0.6666666666666666,
              "#ed7953"
             ],
             [
              0.7777777777777778,
              "#fb9f3a"
             ],
             [
              0.8888888888888888,
              "#fdca26"
             ],
             [
              1,
              "#f0f921"
             ]
            ],
            "type": "surface"
           }
          ],
          "table": [
           {
            "cells": {
             "fill": {
              "color": "#EBF0F8"
             },
             "line": {
              "color": "white"
             }
            },
            "header": {
             "fill": {
              "color": "#C8D4E3"
             },
             "line": {
              "color": "white"
             }
            },
            "type": "table"
           }
          ]
         },
         "layout": {
          "annotationdefaults": {
           "arrowcolor": "#2a3f5f",
           "arrowhead": 0,
           "arrowwidth": 1
          },
          "autotypenumbers": "strict",
          "coloraxis": {
           "colorbar": {
            "outlinewidth": 0,
            "ticks": ""
           }
          },
          "colorscale": {
           "diverging": [
            [
             0,
             "#8e0152"
            ],
            [
             0.1,
             "#c51b7d"
            ],
            [
             0.2,
             "#de77ae"
            ],
            [
             0.3,
             "#f1b6da"
            ],
            [
             0.4,
             "#fde0ef"
            ],
            [
             0.5,
             "#f7f7f7"
            ],
            [
             0.6,
             "#e6f5d0"
            ],
            [
             0.7,
             "#b8e186"
            ],
            [
             0.8,
             "#7fbc41"
            ],
            [
             0.9,
             "#4d9221"
            ],
            [
             1,
             "#276419"
            ]
           ],
           "sequential": [
            [
             0,
             "#0d0887"
            ],
            [
             0.1111111111111111,
             "#46039f"
            ],
            [
             0.2222222222222222,
             "#7201a8"
            ],
            [
             0.3333333333333333,
             "#9c179e"
            ],
            [
             0.4444444444444444,
             "#bd3786"
            ],
            [
             0.5555555555555556,
             "#d8576b"
            ],
            [
             0.6666666666666666,
             "#ed7953"
            ],
            [
             0.7777777777777778,
             "#fb9f3a"
            ],
            [
             0.8888888888888888,
             "#fdca26"
            ],
            [
             1,
             "#f0f921"
            ]
           ],
           "sequentialminus": [
            [
             0,
             "#0d0887"
            ],
            [
             0.1111111111111111,
             "#46039f"
            ],
            [
             0.2222222222222222,
             "#7201a8"
            ],
            [
             0.3333333333333333,
             "#9c179e"
            ],
            [
             0.4444444444444444,
             "#bd3786"
            ],
            [
             0.5555555555555556,
             "#d8576b"
            ],
            [
             0.6666666666666666,
             "#ed7953"
            ],
            [
             0.7777777777777778,
             "#fb9f3a"
            ],
            [
             0.8888888888888888,
             "#fdca26"
            ],
            [
             1,
             "#f0f921"
            ]
           ]
          },
          "colorway": [
           "#636efa",
           "#EF553B",
           "#00cc96",
           "#ab63fa",
           "#FFA15A",
           "#19d3f3",
           "#FF6692",
           "#B6E880",
           "#FF97FF",
           "#FECB52"
          ],
          "font": {
           "color": "#2a3f5f"
          },
          "geo": {
           "bgcolor": "white",
           "lakecolor": "white",
           "landcolor": "#E5ECF6",
           "showlakes": true,
           "showland": true,
           "subunitcolor": "white"
          },
          "hoverlabel": {
           "align": "left"
          },
          "hovermode": "closest",
          "mapbox": {
           "style": "light"
          },
          "paper_bgcolor": "white",
          "plot_bgcolor": "#E5ECF6",
          "polar": {
           "angularaxis": {
            "gridcolor": "white",
            "linecolor": "white",
            "ticks": ""
           },
           "bgcolor": "#E5ECF6",
           "radialaxis": {
            "gridcolor": "white",
            "linecolor": "white",
            "ticks": ""
           }
          },
          "scene": {
           "xaxis": {
            "backgroundcolor": "#E5ECF6",
            "gridcolor": "white",
            "gridwidth": 2,
            "linecolor": "white",
            "showbackground": true,
            "ticks": "",
            "zerolinecolor": "white"
           },
           "yaxis": {
            "backgroundcolor": "#E5ECF6",
            "gridcolor": "white",
            "gridwidth": 2,
            "linecolor": "white",
            "showbackground": true,
            "ticks": "",
            "zerolinecolor": "white"
           },
           "zaxis": {
            "backgroundcolor": "#E5ECF6",
            "gridcolor": "white",
            "gridwidth": 2,
            "linecolor": "white",
            "showbackground": true,
            "ticks": "",
            "zerolinecolor": "white"
           }
          },
          "shapedefaults": {
           "line": {
            "color": "#2a3f5f"
           }
          },
          "ternary": {
           "aaxis": {
            "gridcolor": "white",
            "linecolor": "white",
            "ticks": ""
           },
           "baxis": {
            "gridcolor": "white",
            "linecolor": "white",
            "ticks": ""
           },
           "bgcolor": "#E5ECF6",
           "caxis": {
            "gridcolor": "white",
            "linecolor": "white",
            "ticks": ""
           }
          },
          "title": {
           "x": 0.05
          },
          "xaxis": {
           "automargin": true,
           "gridcolor": "white",
           "linecolor": "white",
           "ticks": "",
           "title": {
            "standoff": 15
           },
           "zerolinecolor": "white",
           "zerolinewidth": 2
          },
          "yaxis": {
           "automargin": true,
           "gridcolor": "white",
           "linecolor": "white",
           "ticks": "",
           "title": {
            "standoff": 15
           },
           "zerolinecolor": "white",
           "zerolinewidth": 2
          }
         }
        },
        "title": {
         "text": "Training and Validation Loss Over Time"
        },
        "xaxis": {
         "anchor": "y",
         "domain": [
          0,
          1
         ],
         "title": {
          "text": "Epoch"
         }
        },
        "yaxis": {
         "anchor": "x",
         "domain": [
          0,
          1
         ],
         "title": {
          "text": "Loss"
         }
        }
       }
      }
     },
     "metadata": {},
     "output_type": "display_data"
    }
   ],
   "source": [
    "fig = px.line(\n",
    "    history.history,\n",
    "    y=['loss', 'val_loss'],\n",
    "    labels={'index': \"Epoch\", 'value': \"Loss\"},\n",
    "    title=\"Training and Validation Loss Over Time\"\n",
    ")\n",
    "\n",
    "fig.show()"
   ]
  },
  {
   "cell_type": "code",
   "execution_count": 44,
   "metadata": {},
   "outputs": [],
   "source": [
    "def evaluate_model(model, test_data):\n",
    "    \n",
    "    results = model.evaluate(test_data, verbose=0)\n",
    "    loss = results[0]\n",
    "    acc = results[1]\n",
    "    \n",
    "    print(\"    Test Loss: {:.5f}\".format(loss))\n",
    "    print(\"Test Accuracy: {:.2f}%\".format(acc * 100))\n",
    "    \n",
    "    y_pred = np.squeeze((model.predict(test_data) >= 0.5).astype(np.int_))\n",
    "    cm = confusion_matrix(test_data.labels, y_pred)\n",
    "    clr = classification_report(test_data.labels, y_pred, target_names=[\"NEGATIVE\", \"POSITIVE\"])\n",
    "    \n",
    "    plt.figure(figsize=(6, 6))\n",
    "    sns.heatmap(cm, annot=True, fmt='g', vmin=0, cmap='Blues', cbar=False)\n",
    "    plt.xticks(ticks=np.arange(2) + 0.5, labels=[\"NEGATIVE\", \"POSITIVE\"])\n",
    "    plt.yticks(ticks=np.arange(2) + 0.5, labels=[\"NEGATIVE\", \"POSITIVE\"])\n",
    "    plt.xlabel(\"Predicted\")\n",
    "    plt.ylabel(\"Actual\")\n",
    "    plt.title(\"Confusion Matrix\")\n",
    "    plt.show()\n",
    "    \n",
    "    print(\"Classification Report:\\n----------------------\\n\", clr)"
   ]
  },
  {
   "cell_type": "code",
   "execution_count": 45,
   "metadata": {},
   "outputs": [
    {
     "name": "stdout",
     "output_type": "stream",
     "text": [
      "    Test Loss: 0.63026\n",
      "Test Accuracy: 68.50%\n",
      "7/7 [==============================] - 1s 61ms/step\n"
     ]
    },
    {
     "data": {
      "image/png": "[encoded data removed]",
      "text/plain": [
       "<Figure size 600x600 with 1 Axes>"
      ]
     },
     "metadata": {},
     "output_type": "display_data"
    },
    {
     "name": "stdout",
     "output_type": "stream",
     "text": [
      "Classification Report:\n",
      "----------------------\n",
      "               precision    recall  f1-score   support\n",
      "\n",
      "    NEGATIVE       0.61      1.00      0.76       100\n",
      "    POSITIVE       1.00      0.37      0.54       100\n",
      "\n",
      "    accuracy                           0.69       200\n",
      "   macro avg       0.81      0.69      0.65       200\n",
      "weighted avg       0.81      0.69      0.65       200\n",
      "\n"
     ]
    }
   ],
   "source": [
    "evaluate_model(model, test_data)"
   ]
  }
 ],
 "metadata": {
  "kernelspec": {
   "display_name": "Python 3",
   "language": "python",
   "name": "python3"
  },
  "language_info": {
   "codemirror_mode": {
    "name": "ipython",
    "version": 3
   },
   "file_extension": ".py",
   "mimetype": "text/x-python",
   "name": "python",
   "nbconvert_exporter": "python",
   "pygments_lexer": "ipython3",
   "version": "3.8.6"
  },
  "orig_nbformat": 4,
  "vscode": {
   "interpreter": {
    "hash": "570feb405e2e27c949193ac68f46852414290d515b0ba6e5d90d076ed2284471"
   }
  }
 },
 "nbformat": 4,
 "nbformat_minor": 2
}
